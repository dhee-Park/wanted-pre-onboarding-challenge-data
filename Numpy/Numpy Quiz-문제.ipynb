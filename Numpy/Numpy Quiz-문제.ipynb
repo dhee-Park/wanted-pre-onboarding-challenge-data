{
  "cells": [
    {
      "cell_type": "code",
      "execution_count": 1,
      "id": "7d34f957",
      "metadata": {
        "id": "7d34f957"
      },
      "outputs": [],
      "source": [
        "# 필요한 라이브러리를 불러옵니다.\n",
        "import numpy as np"
      ]
    },
    {
      "cell_type": "markdown",
      "id": "e35027db",
      "metadata": {
        "id": "e35027db"
      },
      "source": [
        "### 1. 값이 10~49인 numpy array를 만드세요"
      ]
    },
    {
      "cell_type": "code",
      "execution_count": 2,
      "id": "186a443c",
      "metadata": {
        "id": "186a443c",
        "outputId": "80de76bd-09e1-44fd-e70e-7fd986d183e4",
        "colab": {
          "base_uri": "https://localhost:8080/"
        }
      },
      "outputs": [
        {
          "output_type": "stream",
          "name": "stdout",
          "text": [
            "[10 11 12 13 14 15 16 17 18 19 20 21 22 23 24 25 26 27 28 29 30 31 32 33\n",
            " 34 35 36 37 38 39 40 41 42 43 44 45 46 47 48 49]\n"
          ]
        }
      ],
      "source": [
        "z = np.arange(10,50)\n",
        "print(z)"
      ]
    },
    {
      "cell_type": "markdown",
      "id": "7fe92102",
      "metadata": {
        "id": "7fe92102"
      },
      "source": [
        "### 2. z를 반전하세요."
      ]
    },
    {
      "cell_type": "code",
      "execution_count": 3,
      "id": "f78638fa",
      "metadata": {
        "id": "f78638fa",
        "outputId": "5ff2f75b-821f-48a4-ee25-3427d8f47353",
        "colab": {
          "base_uri": "https://localhost:8080/"
        }
      },
      "outputs": [
        {
          "output_type": "stream",
          "name": "stdout",
          "text": [
            "[49 48 47 46 45 44 43 42 41 40 39 38 37 36 35 34 33 32 31 30 29 28 27 26\n",
            " 25 24 23 22 21 20 19 18 17 16 15 14 13 12 11 10]\n"
          ]
        }
      ],
      "source": [
        "z = np.flip(z)\n",
        "print(z)"
      ]
    },
    {
      "cell_type": "markdown",
      "id": "a04b347c",
      "metadata": {
        "id": "a04b347c"
      },
      "source": [
        "### 3. 반전시킨 z 매트릭스를 10 x 4 매트릭스로 바꾸세요."
      ]
    },
    {
      "cell_type": "code",
      "execution_count": 4,
      "id": "fcf79ba9",
      "metadata": {
        "id": "fcf79ba9",
        "outputId": "40556789-b604-4004-c09d-af606960febf",
        "colab": {
          "base_uri": "https://localhost:8080/"
        }
      },
      "outputs": [
        {
          "output_type": "stream",
          "name": "stdout",
          "text": [
            "[[49 48 47 46]\n",
            " [45 44 43 42]\n",
            " [41 40 39 38]\n",
            " [37 36 35 34]\n",
            " [33 32 31 30]\n",
            " [29 28 27 26]\n",
            " [25 24 23 22]\n",
            " [21 20 19 18]\n",
            " [17 16 15 14]\n",
            " [13 12 11 10]]\n"
          ]
        }
      ],
      "source": [
        "z = z.reshape(10,4)\n",
        "print(z)"
      ]
    },
    {
      "cell_type": "markdown",
      "id": "a8fb1466",
      "metadata": {
        "id": "a8fb1466"
      },
      "source": [
        "### 4. x에서 0이 아닌 요소의 색인을 찾아보세요."
      ]
    },
    {
      "cell_type": "code",
      "execution_count": 5,
      "id": "0b0944c7",
      "metadata": {
        "id": "0b0944c7",
        "outputId": "9da6ae91-c1c6-41f0-f2e2-4f36c3f5eff1",
        "colab": {
          "base_uri": "https://localhost:8080/"
        }
      },
      "outputs": [
        {
          "output_type": "stream",
          "name": "stdout",
          "text": [
            "(array([0, 1, 2, 4, 6]),)\n"
          ]
        }
      ],
      "source": [
        "x = np.array([5,6,8,0,1,0,7])\n",
        "nz_idx = np.nonzero(x)\n",
        "print(nz_idx)"
      ]
    },
    {
      "cell_type": "markdown",
      "id": "fb98a12e",
      "metadata": {
        "id": "fb98a12e"
      },
      "source": [
        "### nan 값 이해하기\n",
        "\n"
      ]
    },
    {
      "cell_type": "code",
      "execution_count": 6,
      "id": "7d12b519",
      "metadata": {
        "id": "7d12b519",
        "outputId": "0e425d2d-8b74-4a50-b076-063d5b4718c0",
        "colab": {
          "base_uri": "https://localhost:8080/"
        }
      },
      "outputs": [
        {
          "output_type": "stream",
          "name": "stdout",
          "text": [
            "False\n",
            "True\n",
            "False\n",
            "True\n"
          ]
        }
      ],
      "source": [
        "print(np.nan == np.nan)\n",
        "print(np.isnan(np.nan))\n",
        "\n",
        "import math\n",
        "print(0.3 == 3 * 0.1)\n",
        "print(math.isclose(0.1 + 0.2, 0.3))"
      ]
    },
    {
      "cell_type": "markdown",
      "id": "87f765ae",
      "metadata": {
        "id": "87f765ae"
      },
      "source": [
        "### 5. 12 x 12 매트릭스를 만들어 바둑판 패턴으로 0과 1을 채우세요"
      ]
    },
    {
      "cell_type": "code",
      "execution_count": 13,
      "id": "c5dade12",
      "metadata": {
        "id": "c5dade12",
        "outputId": "4089163d-b1be-40c6-c624-92fabc34da39",
        "colab": {
          "base_uri": "https://localhost:8080/"
        }
      },
      "outputs": [
        {
          "output_type": "stream",
          "name": "stdout",
          "text": [
            "[[0. 0. 0. 0. 0. 0. 0. 0. 0. 0. 0. 0.]\n",
            " [0. 0. 0. 0. 0. 0. 0. 0. 0. 0. 0. 0.]\n",
            " [0. 0. 0. 0. 0. 0. 0. 0. 0. 0. 0. 0.]\n",
            " [0. 0. 0. 0. 0. 0. 0. 0. 0. 0. 0. 0.]\n",
            " [0. 0. 0. 0. 0. 0. 0. 0. 0. 0. 0. 0.]\n",
            " [0. 0. 0. 0. 0. 0. 0. 0. 0. 0. 0. 0.]\n",
            " [0. 0. 0. 0. 0. 0. 0. 0. 0. 0. 0. 0.]\n",
            " [0. 0. 0. 0. 0. 0. 0. 0. 0. 0. 0. 0.]\n",
            " [0. 0. 0. 0. 0. 0. 0. 0. 0. 0. 0. 0.]\n",
            " [0. 0. 0. 0. 0. 0. 0. 0. 0. 0. 0. 0.]\n",
            " [0. 0. 0. 0. 0. 0. 0. 0. 0. 0. 0. 0.]\n",
            " [0. 0. 0. 0. 0. 0. 0. 0. 0. 0. 0. 0.]]\n",
            "\n",
            "[[0. 1. 0. 1. 0. 1. 0. 1. 0. 1. 0. 1.]\n",
            " [1. 0. 1. 0. 1. 0. 1. 0. 1. 0. 1. 0.]\n",
            " [0. 1. 0. 1. 0. 1. 0. 1. 0. 1. 0. 1.]\n",
            " [1. 0. 1. 0. 1. 0. 1. 0. 1. 0. 1. 0.]\n",
            " [0. 1. 0. 1. 0. 1. 0. 1. 0. 1. 0. 1.]\n",
            " [1. 0. 1. 0. 1. 0. 1. 0. 1. 0. 1. 0.]\n",
            " [0. 1. 0. 1. 0. 1. 0. 1. 0. 1. 0. 1.]\n",
            " [1. 0. 1. 0. 1. 0. 1. 0. 1. 0. 1. 0.]\n",
            " [0. 1. 0. 1. 0. 1. 0. 1. 0. 1. 0. 1.]\n",
            " [1. 0. 1. 0. 1. 0. 1. 0. 1. 0. 1. 0.]\n",
            " [0. 1. 0. 1. 0. 1. 0. 1. 0. 1. 0. 1.]\n",
            " [1. 0. 1. 0. 1. 0. 1. 0. 1. 0. 1. 0.]]\n"
          ]
        }
      ],
      "source": [
        "x = np.zeros((12, 12))\n",
        "print(x, end='\\n\\n')\n",
        "###############\n",
        "# 슬라이싱을 사용하세요\n",
        "x[1::2, ::2] = 1\n",
        "x[::2, 1::2] = 1\n",
        "###############\n",
        "print(x)"
      ]
    },
    {
      "cell_type": "markdown",
      "id": "8765875e",
      "metadata": {
        "id": "8765875e"
      },
      "source": [
        "### 6. np.tile 을 이용해서 동일한 바둑판 배턴을 만들어보세요"
      ]
    },
    {
      "cell_type": "code",
      "execution_count": 26,
      "id": "fe6834dd",
      "metadata": {
        "id": "fe6834dd",
        "outputId": "733f17bf-b7c2-49c8-e54f-7627d217ff48",
        "colab": {
          "base_uri": "https://localhost:8080/"
        }
      },
      "outputs": [
        {
          "output_type": "stream",
          "name": "stdout",
          "text": [
            "[[0 1 0 1 0 1 0 1 0 1 0 1]\n",
            " [1 0 1 0 1 0 1 0 1 0 1 0]\n",
            " [0 1 0 1 0 1 0 1 0 1 0 1]\n",
            " [1 0 1 0 1 0 1 0 1 0 1 0]\n",
            " [0 1 0 1 0 1 0 1 0 1 0 1]\n",
            " [1 0 1 0 1 0 1 0 1 0 1 0]\n",
            " [0 1 0 1 0 1 0 1 0 1 0 1]\n",
            " [1 0 1 0 1 0 1 0 1 0 1 0]\n",
            " [0 1 0 1 0 1 0 1 0 1 0 1]\n",
            " [1 0 1 0 1 0 1 0 1 0 1 0]\n",
            " [0 1 0 1 0 1 0 1 0 1 0 1]\n",
            " [1 0 1 0 1 0 1 0 1 0 1 0]]\n"
          ]
        }
      ],
      "source": [
        "x = np.tile([[0,1],[1,0]],(6,6))\n",
        "print(x)"
      ]
    },
    {
      "cell_type": "markdown",
      "id": "b1a5847c",
      "metadata": {
        "id": "b1a5847c"
      },
      "source": [
        "### 7. 1차원 배열이 x에서 값이 5~10인 요소를 0으로 바꾸세요"
      ]
    },
    {
      "cell_type": "code",
      "execution_count": 41,
      "id": "bd215833",
      "metadata": {
        "id": "bd215833",
        "outputId": "289c86df-8cf5-417c-d5cf-57883301de40",
        "colab": {
          "base_uri": "https://localhost:8080/"
        }
      },
      "outputs": [
        {
          "output_type": "stream",
          "name": "stdout",
          "text": [
            "[ 2  5  3  8  3 34 23  7 10]\n",
            "[ 2  0  3  0  3 34 23  0  0]\n"
          ]
        }
      ],
      "source": [
        "x = np.array([2,5,3,8,3,34,23,7,10])\n",
        "print(x)\n",
        "##################\n",
        "# 필터링을 사용하세요.\n",
        "x = np.where((x>=5) & (x<=10), 0, x)\n",
        "##################\n",
        "print(x)"
      ]
    },
    {
      "cell_type": "markdown",
      "id": "d5bd1501",
      "metadata": {
        "id": "d5bd1501"
      },
      "source": [
        "### 8. 0에서 100 사이의 값으로 크기가 10인 1차원 array를 만드세요"
      ]
    },
    {
      "cell_type": "code",
      "execution_count": 45,
      "id": "88e38f0e",
      "metadata": {
        "id": "88e38f0e",
        "outputId": "affdde3d-2249-425e-8ec9-6b988e350dc3",
        "colab": {
          "base_uri": "https://localhost:8080/"
        }
      },
      "outputs": [
        {
          "output_type": "stream",
          "name": "stdout",
          "text": [
            "[  0.          11.11111111  22.22222222  33.33333333  44.44444444\n",
            "  55.55555556  66.66666667  77.77777778  88.88888889 100.        ]\n"
          ]
        }
      ],
      "source": [
        "x = np.linspace(0,100,10)\n",
        "print(x)"
      ]
    },
    {
      "cell_type": "markdown",
      "id": "143e78e1",
      "metadata": {
        "id": "143e78e1"
      },
      "source": [
        "### 9. np.allclose() 함수를 사용하여 2개의 array가 같은지를 확인해보세요"
      ]
    },
    {
      "cell_type": "code",
      "execution_count": 46,
      "id": "56449e50",
      "metadata": {
        "id": "56449e50",
        "outputId": "50e05c0f-2785-49fa-8a25-ac982d501165",
        "colab": {
          "base_uri": "https://localhost:8080/"
        }
      },
      "outputs": [
        {
          "output_type": "stream",
          "name": "stdout",
          "text": [
            "True\n"
          ]
        }
      ],
      "source": [
        "A = np.array([1e10,1e-8])\n",
        "B = np.array([1.00001e10,1e-9])\n",
        "\n",
        "equal = np.allclose(A,B)\n",
        "print(equal)"
      ]
    },
    {
      "cell_type": "markdown",
      "id": "26819557",
      "metadata": {
        "id": "26819557"
      },
      "source": [
        "### 10. 데카르트 좌표를 나타내는 랜덤 8 x 2 행렬을 고려하여 극좌표로 변환해보세요."
      ]
    },
    {
      "cell_type": "code",
      "execution_count": 52,
      "id": "4136e249",
      "metadata": {
        "id": "4136e249",
        "outputId": "8956e01a-f9f3-4115-c313-9c6591e31f79",
        "colab": {
          "base_uri": "https://localhost:8080/"
        }
      },
      "outputs": [
        {
          "output_type": "stream",
          "name": "stdout",
          "text": [
            "[[1.29196539 0.72031462]\n",
            " [0.96004879 0.75501834]\n",
            " [0.57988625 1.16455564]\n",
            " [0.57774372 0.76111838]\n",
            " [1.3779509  0.80281911]\n",
            " [0.95530089 1.38326983]\n",
            " [0.86865559 0.21477653]\n",
            " [0.65799039 1.21094347]\n",
            " [0.95901319 1.43608604]\n",
            " [0.45663786 0.16626617]]\n"
          ]
        }
      ],
      "source": [
        "coord = np.random.random((10,2))\n",
        "x, y = coord[:,0], coord[:,1]\n",
        "r = np.sqrt(x*x + y*y)\n",
        "theta = np.arctan2(y,x)\n",
        "ploar_coord = np.concatenate([r[:,np.newaxis], theta[:,np.newaxis]],axis=1)\n",
        "print(ploar_coord)"
      ]
    },
    {
      "cell_type": "code",
      "execution_count": null,
      "id": "40708824",
      "metadata": {
        "id": "40708824"
      },
      "outputs": [],
      "source": []
    }
  ],
  "metadata": {
    "kernelspec": {
      "display_name": "Python 3 (ipykernel)",
      "language": "python",
      "name": "python3"
    },
    "language_info": {
      "codemirror_mode": {
        "name": "ipython",
        "version": 3
      },
      "file_extension": ".py",
      "mimetype": "text/x-python",
      "name": "python",
      "nbconvert_exporter": "python",
      "pygments_lexer": "ipython3",
      "version": "3.8.0"
    },
    "colab": {
      "provenance": []
    }
  },
  "nbformat": 4,
  "nbformat_minor": 5
}